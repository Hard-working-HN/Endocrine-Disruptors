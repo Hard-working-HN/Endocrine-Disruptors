{
 "cells": [
  {
   "cell_type": "code",
   "execution_count": null,
   "id": "9e071923-eb4e-41bb-a5ed-47e996a364db",
   "metadata": {},
   "outputs": [],
   "source": []
  }
 ],
 "metadata": {
  "kernelspec": {
   "display_name": "Python (HN)",
   "language": "python",
   "name": "hn"
  },
  "language_info": {
   "codemirror_mode": {
    "name": "ipython",
    "version": 3
   },
   "file_extension": ".py",
   "mimetype": "text/x-python",
   "name": "python",
   "nbconvert_exporter": "python",
   "pygments_lexer": "ipython3",
   "version": "3.10.14"
  }
 },
 "nbformat": 4,
 "nbformat_minor": 5
}
