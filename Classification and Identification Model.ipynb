{
 "cells": [
  {
   "cell_type": "code",
   "execution_count": null,
   "id": "47f79604-1a1b-40b4-8362-16ee39b21baf",
   "metadata": {},
   "outputs": [],
   "source": [
    "import pandas as pd\n",
    "import numpy as np\n",
    "from sklearn.feature_selection import VarianceThreshold\n",
    "from sklearn.feature_selection import SelectKBest\n",
    "from sklearn.feature_selection import mutual_info_regression\n",
    "from sklearn.ensemble import RandomForestClassifier as RFC\n",
    "from sklearn.model_selection import cross_val_score\n",
    "import matplotlib.pyplot as plt\n",
    "from sklearn.preprocessing import StandardScaler\n",
    "from sklearn.feature_selection import RFECV\n",
    "from sklearn.feature_selection import RFE\n",
    "from sklearn.model_selection import train_test_split\n",
    "from sklearn.metrics import accuracy_score\n",
    "from sklearn.metrics import confusion_matrix\n",
    "from imblearn.over_sampling import SMOTE\n",
    "from collections import Counter\n",
    "from sklearn.metrics import classification_report, confusion_matrix, accuracy_score"
   ]
  },
  {
   "cell_type": "markdown",
   "id": "6d43e757-4e28-4599-a2b8-fa713a3ef83f",
   "metadata": {},
   "source": [
    "# Classification and identification model"
   ]
  },
  {
   "cell_type": "markdown",
   "id": "c6ce38fa-dbad-4ade-9740-b6761b5e7591",
   "metadata": {},
   "source": [
    "### Data reading and pre-processing"
   ]
  },
  {
   "cell_type": "code",
   "execution_count": null,
   "id": "b942c384-6388-4b02-8f97-6393a97ebba4",
   "metadata": {},
   "outputs": [],
   "source": [
    "data = pd.read_excel(r\"EDCs Classification.xlsx\",index_col = 0)\n",
    "data.isnull().sum()\n",
    "data.dropna(axis=1,inplace=True)\n",
    "print(data.shape)\n",
    "\n",
    "X = data.iloc[:,1:]\n",
    "Y = data.iloc[:,0]\n",
    "\n",
    "selector = VarianceThreshold(threshold=0) \n",
    "X1 = selector.fit_transform(X)\n",
    "all_name = X.columns.values.tolist()  \n",
    "select_name_index0 = selector.get_support(indices=True)  \n",
    "select_name0 = []\n",
    "for i in select_name_index0:\n",
    "    select_name0.append(all_name[i])\n",
    "X2 = pd.DataFrame(X1)\n",
    "X2.columns = select_name0\n",
    "X = X2\n",
    "\n",
    "mic = mutual_info_regression(X2, Y, random_state=0)\n",
    "k = mic.shape[0] - sum(mic <= 0)   \n",
    "skb = SelectKBest(mutual_info_regression, k=k)  \n",
    "X3 = skb.fit_transform(X2, Y)\n",
    "pd.DataFrame(X3)\n",
    "select_name_index = skb.get_support(indices=True)\n",
    "select_name = []\n",
    "for i in select_name_index:\n",
    "    select_name.append(select_name0[i])\n",
    "X4 = pd.DataFrame(X3)\n",
    "X4.columns = select_name\n",
    "X= X4\n",
    "print(X.shape)"
   ]
  },
  {
   "cell_type": "markdown",
   "id": "fef3de7d-297c-41e9-9801-c9992cda7b6a",
   "metadata": {},
   "source": [
    "### Feature selection"
   ]
  },
  {
   "cell_type": "code",
   "execution_count": null,
   "id": "0bcd4ed1-3dd3-4fba-982c-507d8269a8ed",
   "metadata": {},
   "outputs": [],
   "source": [
    "score = []                                                            \n",
    "for i in range(1, 420, 10):\n",
    "    X_wrapper = RFE(RFC_, n_features_to_select=i, step=1).fit_transform(X, Y)   \n",
    "    once = cross_val_score(RFC_, X_wrapper, Y, cv=10).mean()                      \n",
    "    score.append(once)                                                          \n",
    "print(max(score), (score.index(max(score)))*10+1)                                 \n",
    "print(score)\n",
    "plt.figure(figsize=[30, 15])\n",
    "plt.plot(range(1, 420, 10), score)\n",
    "plt.xticks(range(1, 420, 10))\n",
    "plt.show()"
   ]
  },
  {
   "cell_type": "markdown",
   "id": "5ce29164-35e7-4ede-b32a-885daa0749e1",
   "metadata": {},
   "source": [
    "###### Figure S1"
   ]
  },
  {
   "cell_type": "code",
   "execution_count": null,
   "id": "4b12e8c4-3695-4bf9-b3c4-329ab7549977",
   "metadata": {},
   "outputs": [],
   "source": [
    "import matplotlib.pyplot as plt\n",
    "from scipy.interpolate import make_interp_spline\n",
    "from matplotlib import rcParams\n",
    "rcParams['font.family'] = 'serif'\n",
    "rcParams['font.serif'] = ['Times New Roman']\n",
    "rcParams['font.size'] = 11\n",
    "\n",
    "x = range(1, 420, 10)\n",
    "y = [0.69868421, 0.78787594, 0.78966165, 0.79323308, 0.79862155, 0.8039787 , 0.8039787 , 0.80219298, 0.79329574, 0.7914787 ,0.7914787 , 0.79859023, 0.7950188 , 0.7914787 , 0.79326441,0.79505013, 0.7914787 , 0.79859023, 0.79683584, 0.79326441,0.79505013, 0.79862155, 0.7985589 , 0.79505013, 0.79680451,0.79680451, 0.79326441, 0.80034461, 0.79859023, 0.79859023,0.79680451, 0.7985589 , 0.80034461, 0.79859023, 0.79680451,0.79680451, 0.79677318, 0.79859023, 0.7985589 , 0.80213033,0.7950188 , 0.7985589 ]\n",
    "\n",
    "x_smooth = np.linspace(min(x), max(x), len(x)*10)\n",
    "y_smooth = make_interp_spline(x,y)(x_smooth)\n",
    "\n",
    "plt.plot(x_smooth,y_smooth,color='#14a4c8')\n",
    "max_y = max(y)\n",
    "max_x = x[y.index(max_y)]\n",
    "plt.scatter(max_x,max_y,s=50,c='orange')\n",
    "plt.axvline(x=max_x,ymin=0,ymax=(max_y-min(y))/(max(y)-min(y)),color='#00FF7F',linestyle='dashed',alpha=0.3)\n",
    "plt.text(max_x,-max(y)/10,str(max_x),horizontalalignment='center')\n",
    "plt.gca().set_facecolor('#FFFFFF')\n",
    "plt.savefig('data_visualization.jpeg',dpi=600)\n",
    "plt.show()"
   ]
  },
  {
   "cell_type": "markdown",
   "id": "cb5405f8-8a9c-4b16-afb4-8fe31243efe6",
   "metadata": {},
   "source": [
    "### Model building"
   ]
  },
  {
   "cell_type": "code",
   "execution_count": null,
   "id": "06b7f789-9e38-4959-97e6-13535b4b724f",
   "metadata": {},
   "outputs": [],
   "source": [
    "RFC_ = RFC(n_estimators=1000,random_state = 420)          \n",
    "selector = RFE(RFC_, n_features_to_select=51, step=1).fit(X, Y)       \n",
    "print(selector.support_.sum())\n",
    "X = selector.transform(X) \n",
    "X = pd.DataFrame(X)\n",
    "\n",
    "all_name_1 = X4.columns.values.tolist()  \n",
    "select_name_index_1 = selector.get_support(indices=True)  \n",
    "select_name_1 = []\n",
    "for i in select_name_index_1:\n",
    "    select_name_1.append(all_name_1[i])\n",
    "X.columns = select_name_1\n",
    "print(X)\n",
    "\n",
    "Xtrain,Xtest,Ytrain,Ytest = train_test_split(X, Y, test_size=0.3, random_state=3837)\n",
    "smo = SMOTE(random_state=420)\n",
    "X_smo, Y_smo = smo.fit_resample(Xtrain, Ytrain)\n",
    "RF = RFC(n_estimators=1000, random_state=420, n_jobs=-1)\n",
    "RF.fit(X_smo, Y_smo)\n",
    "score_train = RF.score(Xtrain, Ytrain)"
   ]
  },
  {
   "cell_type": "markdown",
   "id": "288d815f-c41e-4422-bb39-b823f5a1ad01",
   "metadata": {},
   "source": [
    "### Model results"
   ]
  },
  {
   "cell_type": "code",
   "execution_count": null,
   "id": "38ff1539-552c-4b1c-aba3-7f19c4eb66d1",
   "metadata": {},
   "outputs": [],
   "source": [
    "score_test = RF.score(Xtest, Ytest)\n",
    "\n",
    "feat_labels = X.columns.values.tolist()\n",
    "importances = RF.feature_importances_\n",
    "indices = np.argsort(importances)[::-1]\n",
    "for f in range(X.shape[1]):   \n",
    "    print(\"%2d) %-*s %f\" % \\\n",
    "          (f + 1, 30, feat_labels[indices[f]], importances[indices[f]]))"
   ]
  },
  {
   "cell_type": "code",
   "execution_count": null,
   "id": "8ea88671-5930-4179-a630-5dda862aef58",
   "metadata": {},
   "outputs": [],
   "source": [
    "from sklearn.metrics import roc_curve, auc\n",
    "import matplotlib.pyplot as plt\n",
    "\n",
    "# calculate the fpr and tpr for all thresholds of the classification\n",
    "probs = RF.predict_proba(Xtest)\n",
    "preds = probs[:,1]\n",
    "fpr, tpr, threshold = roc_curve(Ytest, preds)\n",
    "roc_auc = auc(fpr, tpr)\n",
    "\n",
    "# plot the ROC curve\n",
    "#plt.title('Receiver Operating Characteristic')\n",
    "plt.plot(fpr, tpr, 'b', label = 'AUC = %0.2f' % roc_auc)\n",
    "plt.legend(loc = 'lower right')\n",
    "plt.plot([0, 1], [0, 1],'r--')\n",
    "plt.xlim([0, 1])\n",
    "plt.ylim([0, 1])\n",
    "plt.ylabel('True Positive Rate')\n",
    "plt.xlabel('False Positive Rate')\n",
    "plt.savefig('ROC.jpeg', dpi=600)\n",
    "plt.show()"
   ]
  },
  {
   "cell_type": "markdown",
   "id": "7d58a9d8-c094-4ef7-b842-3e3b62c3f694",
   "metadata": {},
   "source": [
    "# Classification model of endocrine-disrupting effects of EDCs"
   ]
  },
  {
   "cell_type": "code",
   "execution_count": null,
   "id": "3c377792-27f4-450e-a545-5ba5e0d329a1",
   "metadata": {},
   "outputs": [],
   "source": [
    "Hormone_types = pd.read_excel(r\"Hormone_types.xlsx\",index_col = 0, sheet_name=1)\n",
    "X = Hormone_types.iloc[:, 1:]\n",
    "y = Hormone_types.iloc[:, 0]\n",
    "X_train, X_test, y_train, y_test = train_test_split(X, y, test_size=0.3, random_state=1587, stratify=y)\n",
    "classifier = RFC(n_estimators=1000,random_state=6336)\n",
    "classifier.fit(X_train, y_train)\n",
    "y_pred = classifier.predict(X_test)\n",
    "result2 = accuracy_score(y_test, y_pred)\n",
    "print(result2)"
   ]
  },
  {
   "cell_type": "code",
   "execution_count": null,
   "id": "4cb90bcb-8c9f-40bf-a164-f2fbd0ffc9af",
   "metadata": {},
   "outputs": [],
   "source": [
    "from sklearn.preprocessing import label_binarize\n",
    "from sklearn.metrics import roc_auc_score\n",
    "\n",
    "y_test_bin = label_binarize(y_test, classes=[0, 1, 2, 3, 4])\n",
    "y_pred_bin = label_binarize(y_pred, classes=[0, 1, 2, 3, 4])\n",
    "\n",
    "auc = [roc_auc_score(y_test_bin[:, i], y_pred_bin[:, i]) for i in range(y_test_bin.shape[1])]\n",
    "\n",
    "avg_auc = sum(auc) / len(auc)\n",
    "print('Average AUC:', avg_auc)"
   ]
  },
  {
   "cell_type": "code",
   "execution_count": null,
   "id": "5919d54f-9db2-485a-9506-ac4439070dc4",
   "metadata": {},
   "outputs": [],
   "source": [
    "from sklearn.metrics import roc_curve, auc\n",
    "import matplotlib.pyplot as plt\n",
    "\n",
    "# 计算并绘制每个类别的ROC曲线\n",
    "plt.figure()\n",
    "for i in range(y_test_bin.shape[1]):\n",
    "    fpr, tpr, _ = roc_curve(y_test_bin[:, i], y_pred_bin[:, i])\n",
    "    roc_auc = auc(fpr, tpr)\n",
    "    classes = ['Other', 'Estrogen', 'Androgen', 'Progesterone', 'Thyroid']\n",
    "    plt.plot(fpr, tpr, label='ROC curve of {0} (area = {1:0.2f})'.format(classes[i], roc_auc))\n",
    "\n",
    "# 绘制随机分类器的ROC曲线\n",
    "plt.plot([0, 1], [0, 1], 'k--')\n",
    "\n",
    "plt.xlim([0.0, 1.0])\n",
    "plt.ylim([0.0, 1.05])\n",
    "plt.xlabel('False Positive Rate')\n",
    "plt.ylabel('True Positive Rate')\n",
    "plt.legend(loc=\"lower right\")\n",
    "plt.rcParams['font.family'] = 'Times New Roman'\n",
    "plt.savefig('FIG_41A.jpeg', dpi=800)\n",
    "plt.show()"
   ]
  }
 ],
 "metadata": {
  "kernelspec": {
   "display_name": "Python (HN)",
   "language": "python",
   "name": "hn"
  },
  "language_info": {
   "codemirror_mode": {
    "name": "ipython",
    "version": 3
   },
   "file_extension": ".py",
   "mimetype": "text/x-python",
   "name": "python",
   "nbconvert_exporter": "python",
   "pygments_lexer": "ipython3",
   "version": "3.10.14"
  }
 },
 "nbformat": 4,
 "nbformat_minor": 5
}
