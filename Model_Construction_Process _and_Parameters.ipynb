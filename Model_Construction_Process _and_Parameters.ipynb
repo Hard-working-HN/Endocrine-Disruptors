{
 "cells": [
  {
   "cell_type": "markdown",
   "id": "644b4652-7e72-4f3e-83aa-97916c717eef",
   "metadata": {},
   "source": [
    "## Data_Preprocessing"
   ]
  },
  {
   "cell_type": "code",
   "execution_count": null,
   "id": "fcf73f4b-bbf6-4af8-a61f-e9507502e52f",
   "metadata": {},
   "outputs": [],
   "source": [
    "# Find missing values and delete columns with missing values\n",
    "data.isnull().sum()\n",
    "data.dropna(axis=1,inplace=True)\n",
    "\n",
    "# Abnormal value query\n",
    "df['Z_score'] = stats.zscore(df['Y'])\n",
    "df['Z_score_outlier'] = df['Z_score'].abs() > 6\n",
    "outliers_df = df[df['Z_score_outlier']]\n",
    "print(outliers_df)\n",
    "\n",
    "# Variance filtering\n",
    "selector = VarianceThreshold(threshold=0) \n",
    "\n",
    "# data standardization\n",
    "scaler = MinMaxScaler()"
   ]
  },
  {
   "cell_type": "markdown",
   "id": "75e88f47-c264-4079-8c3f-8a6edbe2fcb6",
   "metadata": {},
   "source": [
    "## Parameters"
   ]
  },
  {
   "cell_type": "code",
   "execution_count": null,
   "id": "c79d67ce-10a4-4f71-a02a-6049a6710f63",
   "metadata": {},
   "outputs": [],
   "source": [
    "# RFE removes one feature at a time and uses the default random forest response model to evaluate the model performance as the number of features changes\n",
    "score = []                                                           \n",
    "for i in range(1, 420, 10):\n",
    "    X_wrapper = RFE(RFC_, n_features_to_select=i, step=1).fit_transform(X, Y)    \n",
    "    once = cross_val_score(RFC_, X_wrapper, Y, cv=10).mean()                      \n",
    "    score.append(once)                                                           \n",
    "print(max(score), (score.index(max(score)))*10+1)                                \n",
    "print(score)\n",
    "plt.figure(figsize=[30, 15])\n",
    "plt.plot(range(1, 420, 10), score)\n",
    "plt.xticks(range(1, 420, 10))\n",
    "plt.show()\n",
    "\n",
    "# Random Forest Model Parameters\n",
    "Parameters = [\n",
    "    n_estimators=1000,             \n",
    "    criterion='gini',              \n",
    "    max_depth=None,                \n",
    "    min_samples_split=2,           \n",
    "    min_samples_leaf=1,            \n",
    "    min_weight_fraction_leaf=0.0,  \n",
    "    max_features='sqrt',           \n",
    "    max_leaf_nodes=None,           \n",
    "    min_impurity_decrease=0.0,     \n",
    "    bootstrap=True,                \n",
    "    oob_score=False,               \n",
    "    n_jobs=-1,                     \n",
    "    random_state=420,              \n",
    "    verbose=0,                     \n",
    "    warm_start=False,              \n",
    "    class_weight=None,             \n",
    "    ccp_alpha=0.0,                 \n",
    "    max_samples=None               \n",
    "]"
   ]
  },
  {
   "cell_type": "markdown",
   "id": "07010301-2274-47ca-9fdd-12b43f2f3f4a",
   "metadata": {},
   "source": [
    "#### Evaluating indicator"
   ]
  },
  {
   "cell_type": "code",
   "execution_count": 14,
   "id": "16c0e511-e164-46af-816f-374f923a54de",
   "metadata": {},
   "outputs": [
    {
     "name": "stdout",
     "output_type": "stream",
     "text": [
      "Classification Report:\n",
      "              precision    recall  f1-score   support\n",
      "\n",
      "           0       0.90      0.93      0.91       138\n",
      "           1       0.64      0.52      0.57        31\n",
      "\n",
      "    accuracy                           0.86       169\n",
      "   macro avg       0.77      0.73      0.74       169\n",
      "weighted avg       0.85      0.86      0.85       169\n",
      "\n"
     ]
    }
   ],
   "source": [
    "# EDCs classification and identification model\n",
    "from sklearn.metrics import classification_report\n",
    "result1 = classification_report(Ytest, Ypred)\n",
    "print(\"Classification Report:\", )\n",
    "print(result1)"
   ]
  },
  {
   "cell_type": "code",
   "execution_count": 86,
   "id": "9b95e673-c59c-44ba-9fd8-12999d4dce36",
   "metadata": {},
   "outputs": [
    {
     "name": "stdout",
     "output_type": "stream",
     "text": [
      "Classification Report:\n",
      "              precision    recall  f1-score   support\n",
      "\n",
      "           0       0.80      0.57      0.67         7\n",
      "           1       0.61      0.85      0.71        13\n",
      "           2       0.82      0.82      0.82        11\n",
      "           3       0.00      0.00      0.00         2\n",
      "           4       1.00      0.67      0.80         3\n",
      "\n",
      "    accuracy                           0.72        36\n",
      "   macro avg       0.65      0.58      0.60        36\n",
      "weighted avg       0.71      0.72      0.70        36\n",
      "\n"
     ]
    }
   ],
   "source": [
    "# Classification Model for Endocrine Disruption Effects of EDCs\n",
    "from sklearn.metrics import classification_report\n",
    "result1 = classification_report(y_test, y_pred)\n",
    "print(\"Classification Report:\", )\n",
    "print(result1)"
   ]
  },
  {
   "cell_type": "markdown",
   "id": "a0def13f-e9cb-4b33-a773-340de9815fff",
   "metadata": {},
   "source": [
    "## Division of Training Test Set"
   ]
  },
  {
   "cell_type": "code",
   "execution_count": null,
   "id": "62a1b4ff-44b8-40ca-863b-d564c8ca27a6",
   "metadata": {},
   "outputs": [],
   "source": [
    "# Use train_test_stplit to divide the training set and test set, with a ratio of 7:3."
   ]
  },
  {
   "cell_type": "markdown",
   "id": "22664867-f438-4ad7-b3e9-b81fb0fd9ba8",
   "metadata": {},
   "source": [
    "## Algorithm implementation"
   ]
  },
  {
   "cell_type": "code",
   "execution_count": null,
   "id": "ee7b8ed4-0ffa-4de3-9f63-a170fa8c0b96",
   "metadata": {},
   "outputs": [],
   "source": [
    "# The Python software packages used in this article are as follows:\n",
    "# pandas, numpy, Scikit-learn, matplotlib, imblearn, collections, shap, captum, warnings, pytorch, scipy"
   ]
  }
 ],
 "metadata": {
  "kernelspec": {
   "display_name": "Python (HN)",
   "language": "python",
   "name": "hn"
  },
  "language_info": {
   "codemirror_mode": {
    "name": "ipython",
    "version": 3
   },
   "file_extension": ".py",
   "mimetype": "text/x-python",
   "name": "python",
   "nbconvert_exporter": "python",
   "pygments_lexer": "ipython3",
   "version": "3.10.14"
  }
 },
 "nbformat": 4,
 "nbformat_minor": 5
}
