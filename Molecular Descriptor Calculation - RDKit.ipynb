{
 "cells": [
  {
   "cell_type": "code",
   "execution_count": null,
   "id": "090d5f00-b2f3-4670-8249-2a0856908792",
   "metadata": {},
   "outputs": [],
   "source": [
    "from rdkit import rdBase, Chem\n",
    "from rdkit.Chem import AllChem, Descriptors\n",
    "from rdkit.ML.Descriptors import MoleculeDescriptors\n",
    "import pandas as pd"
   ]
  },
  {
   "cell_type": "code",
   "execution_count": null,
   "id": "2e94a81a-ef0d-4d95-9a5a-874701e03090",
   "metadata": {},
   "outputs": [],
   "source": [
    "array = [\"C[C@]12CC[C@H]3c4ccc(O)cc4CC[C@H]3[C@@H]1CC[C@@H]2O\", \"Clc1ccc(C(c2ccc(Cl)cc2)C(Cl)(Cl)Cl)cc1\", \"c1ccc2c(c1)cc1ccc3cccc4ccc2c1c34\", \"C[C@]12CC[C@H]3c4ccc(O)cc4CC[C@H]3[C@@H]1CCC2=O\", \"c1ccc2c(c1)ccc1cc3c(ccc4ccccc43)cc12\", \"ClC(Cl)(Cl)Cl\", \"CCO[P@@](=S)(Oc1ccc([N+](=O)[O-])cc1)SCC\", \"CCC(=C(CC)c1ccc(O)cc1)c1ccccc1\", \"c1ccc2cc3c(ccc4ccccc43)cc2c1\", \"C#C[C@]1(O)CC[C@@H]2[C@H]3CCc4cc(O)ccc4[C@@H]3CC[C@]21C\", \"ClC1=C(Cl)[C@]2(Cl)[C@H]3C[C@H](Cl)[C@H](Cl)[C@H]3[C@@]1(Cl)C2(Cl)Cl\", \"CC(=O)[C@H]1CC[C@@H]2[C@@H]3CCC4=CC(=O)CC[C@@]4(C)[C@H]3CC[C@@]12C\", \"Cl[C@H]1[C@@H](Cl)[C@@H](Cl)[C@@H](Cl)[C@@H](Cl)[C@@H]1Cl\", \"ClC1=C(Cl)[C@]2(Cl)C[C@H]3C[C@@H](C[C@@]1(Cl)C2(Cl)Cl)[C@H]1O[C@@H]31\", \"Nc1nc[nH]n1\", \"NC(N)=S\", \"COP(=O)(OC)OC=C(Cl)Cl\", \"CNC(=O)Oc1cccc2ccccc12\", \"CCO\", \"ClC(Cl)Cl\", \"CN(C)C=O\", \"C#C[C@]1(O)CC[C@@H]2[C@H]3CCC4=CC(=O)CC[C@H]4[C@H]3CC[C@@]21C\", \"CC(=O)O[C@@H]1C[C@H]2[C@@H]3C[C@H](C)C4=CC(=O)CC[C@@]4(C)[C@@H]3CC[C@]2(C)[C@H]1C(C)=O\", \"C#C[C@]1(O)CC[C@@H]2[C@@H]3CCc4cc(OC)ccc4[C@@H]3CC[C@]21C\", \"C=CCl\", \"CC=O\", \"C1CO1\", \"C[C@H]1CO1\", \"O=C(O)C(Cl)(Cl)Cl\", \"ClC1=C(Cl)[C@]2(Cl)[C@H]3C=C[C@@H](Cl)[C@@H]3[C@@]1(Cl)C2(Cl)Cl\", \"O[Sn](c1ccccc1)(c1ccccc1)c1ccccc1\", \"O=C1OC(c2ccc(O)cc2)(c2ccc(O)cc2)c2ccccc21\", \"C=CC(=C)C\", \"ClC=C(Cl)Cl\", \"O=C(O)C(Cl)Cl\", \"CC(C)(c1cc(Br)c(O)c(Br)c1)c1cc(Br)c(O)c(Br)c1\", \"CC(=O)c1c(C)c([N+](=O)[O-])c(C(C)(C)C)c([N+](=O)[O-])c1C\", \"Oc1c(Cl)c(Cl)c(Cl)c(Cl)c1Cl\", \"Oc1c(Cl)cc(Cl)cc1Cl\", \"O=[N+]([O-])c1ccccc1Cl\", \"c1ccc2ccccc2c1\", \"O=C(O)COc1ccc(Cl)cc1Cl\", \"Cc1ccc(N)cc1N\", \"c1ccc([C@H]2CO2)cc1\", \"ClC[C@@H](Br)CBr\", \"OC[C@H](O)CCl\", \"S=C1NCCN1\", \"OCc1ccco1\", \"CC(C)c1ccccc1\", \"O=[N+]([O-])c1ccccc1\", \"C=Cc1ccccc1\", \"CC(C)OC(=O)Nc1cccc(Cl)c1\", \"Nc1ccc(Cc2ccc(N)cc2)cc1\", \"Nc1ccc(Oc2ccc(N)cc2)cc1\", \"ClC[C@H]1CO1\", \"BrCCBr\", \"OCCNCCO\", \"[Hg:1]([CH3:2])[Cl:3]\", \"O=P(OCCCl)(OCCCl)OCCCl\", \"O=C1c2cccc(O)c2C(=O)c2c(O)cccc21\", \"CCCC[C@H](CC)COC(=O)c1ccccc1C(=O)OC[C@H](CC)CCCC\", \"Clc1c(Cl)c(Cl)c(Cl)c(Cl)c1Cl\", \"O=C(c1ccccc1)c1ccccc1\", \"COc1cc(-c2ccc(N)c(OC)c2)ccc1N\", \"Oc1ccccc1O\", \"CCOC(=O)C[C@H](SP(=S)(OC)OC)C(=O)OCC\", \"CCNc1nc(Cl)nc(NCC)n1\", \"Oc1ccc(O)cc1\", \"ClC(Cl)=C(Cl)Cl\", \"O=C1c2ccccc2C(=O)c2ccccc21\", \"CN(C)c1ccc(C(c2ccccc2)c2ccc(N(C)C)cc2)cc1\", \"O=C1[C@H]2CC=CC[C@@H]2C(=O)N1SC(Cl)(Cl)Cl\", \"CC(C)Nc1nc(Cl)nc(NC(C)C)n1\", \"O=C1[C@]2(Cl)[C@@]3(Cl)[C@]4(Cl)C(Cl)(Cl)[C@@]5(Cl)[C@](Cl)([C@]1(Cl)[C@@]35Cl)[C@]24Cl\", \"Sc1nc2ccccc2s1\", \"c1ccc2c(c1)ccc1c3ccccc3ccc21\", \"Cl[C@H]1[C@@H](Cl)[C@@H](Cl)[C@@H](Cl)[C@@H](Cl)[C@H]1Cl\", \"Cl[C@H]1[C@H](Cl)[C@@H](Cl)[C@@H](Cl)[C@H](Cl)[C@H]1Cl\", \"CN(C)C(=O)Nc1ccc(Cl)c(Cl)c1\", \"CON(C)C(=O)Nc1ccc(Cl)c(Cl)c1\", \"CCOP(=S)(OCC)Oc1cc(C)nc(C(C)C)n1\", \"O=C(O)C(F)(F)C(F)(F)C(F)(F)C(F)(F)C(F)(F)C(F)(F)C(F)(F)F\", \"O=C(O)C(F)(F)C(F)(F)C(F)(F)C(F)(F)C(F)(F)C(F)(F)C(F)(F)C(F)(F)C(F)(F)F\", \"O=C(O)C(F)(F)C(F)(F)C(F)(F)C(F)(F)C(F)(F)C(F)(F)C(F)(F)C(F)(F)F\", \"N#CN\", \"O=P(OC(CCl)CCl)(OC(CCl)CCl)OC(CCl)CCl\",\"Nc1c(N=Nc2ccc(-c3ccc(N=Nc4cc(S(=O)(=O)O[Na])c5ccccc5c4N)cc3)cc2)cc(S(=O)(=O)O[Na])c2ccccc12\", \"[NH2:1][C:13]1=[C:14]([Cl:21])[CH2:15][C:10]([c:7]2[cH:6][cH:5][c:4]([NH2:17])[c:9]([Cl:20])[cH:8]2)([CH3:16])[CH:11]=[CH:12]1\", \"O=C(O)C(Br)Br\", \"CC(=O)O[Sn](c1ccccc1)(c1ccccc1)c1ccccc1\", \"ClC1=C(Cl)[C@]2(Cl)[C@@H]3C[C@H]4O[C@H]4[C@H]3[C@@]1(Cl)C2(Cl)Cl\", \"CCCN(CCC)c1c([N+](=O)[O-])cc(C(F)(F)F)cc1[N+](=O)[O-]\", \"Clc1cc2c(cc1Cl)Oc1cc(Cl)c(Cl)cc1O2\", \"O=[N+]([O-])c1ccc(Oc2ccc(Cl)cc2Cl)cc1\", \"N#Cc1c(Cl)c(Cl)c(Cl)c(C#N)c1Cl\", \"Nc1ccc(N=Nc2ccc(-c3ccc(N=Nc4c(S(=O)(=O)O[Na])cc5c(c4N)C(=O)C(=NNc4ccccc4)C(S(=O)(=O)O[Na])=C5)cc3)cc2)c(N)c1\", \"CCSC(=O)N1CCCCCC1\", \"ClC1(Cl)C2(Cl)C3(Cl)C4(Cl)C(Cl)(Cl)C5(Cl)C3(Cl)C1(Cl)C5(Cl)C24Cl\", \"COc1cc(N=Nc2c(S(=O)(=O)O)cc3cc(S(=O)(=O)O)cc(N)c3c2O)cc(-c2ccc(N=Nc3c(S(=O)(=O)O)cc4cc(S(=O)(=O)O)cc(N)c4c3O)c(OC)c2)c1\", \"CCOc1nc(C(Cl)(Cl)Cl)ns1\", \"Cc1cc(Cl)ccc1N=CN(C)C\", \"C=C1C(CCl)(CCl)[C@]2(Cl)[C@@H](Cl)[C@H](Cl)[C@@]1(Cl)C2(Cl)Cl\", \"C[C@@]12CC[C@@H]3C(=CCc4cc(OS(=O)(=O)O[Na])ccc43)[C@@H]1CCC2=O\", \"Cc1ccc(NC(=O)N(C)C)cc1Cl\", \"CCc1cccc(CC)c1N(COC)C(=O)CCl\", \"Cc1nc(N(C)C)nc(OC(=O)N(C)C)c1C\", \"C#CC(C)(C)NC(=O)c1cc(Cl)cc(Cl)c1\", \"CCCCc1cccc(OC)c1O\", \"CC(C)c1ccc(NC(=O)N(C)C)cc1\", \"CCOCN(C(=O)CCl)c1c(C)cccc1CC\", \"C=CCO[C@@H](Cn1ccnc1)c1ccc(Cl)cc1Cl\", \"CC(C)NC(=O)N1CC(=O)N(c2cc(Cl)cc(Cl)c2)C1=O\", \"[cH:1]1[c:2]([Cl:17])[c:3]([Cl:18])[cH:4][cH:5][c:6]1-[c:7]1[cH:8][c:9]([Cl:16])[c:10]([Cl:15])[c:11]([Cl:13])[c:12]1[Cl:14]\", \"CCCCc1c(C)nc(NCC)nc1OS(=O)(=O)N(C)C\", \"C=C[C@@]1(C)OC(=O)N(c2cc(Cl)cc(Cl)c2)C1=O\", \"Clc1cc2oc3c(Cl)c(Cl)c(Cl)cc3c2cc1Cl\", \"Clc1ccc(-c2cc(Cl)c(Cl)c(Cl)c2)cc1Cl\", \"Cc1c(COC(=O)[C@@H]2[C@@H](C=C(Cl)C(F)(F)F)C2(C)C)cccc1-c1ccccc1\", \"Clc1ccccc1[C@H]1O[C@@]1(Cn1cncn1)c1ccccc1\"]    \n",
    "\n",
    "descriptor_names = [x[0] for x in Descriptors._descList]\n",
    "df = pd.DataFrame(columns=descriptor_names)\n",
    "j = 0\n",
    "\n",
    "for i in array:\n",
    "    mol=Chem.MolFromSmiles(i)\n",
    "    descriptor_calculator = MoleculeDescriptors.MolecularDescriptorCalculator(descriptor_names)\n",
    "    descriptors = pd.DataFrame([descriptor_calculator.CalcDescriptors(mol)],columns=descriptor_names)   \n",
    "    df.loc[j] = descriptor_calculator.CalcDescriptors(mol)\n",
    "    j += 1\n",
    "\n",
    "print(df)\n",
    "df.to_excel('RDkit.xlsx')"
   ]
  }
 ],
 "metadata": {
  "kernelspec": {
   "display_name": "Python (HN)",
   "language": "python",
   "name": "hn"
  },
  "language_info": {
   "codemirror_mode": {
    "name": "ipython",
    "version": 3
   },
   "file_extension": ".py",
   "mimetype": "text/x-python",
   "name": "python",
   "nbconvert_exporter": "python",
   "pygments_lexer": "ipython3",
   "version": "3.10.14"
  }
 },
 "nbformat": 4,
 "nbformat_minor": 5
}
